{
  "cells": [
    {
      "cell_type": "code",
      "execution_count": null,
      "metadata": {
        "colab": {
          "base_uri": "https://localhost:8080/"
        },
        "id": "vM46WGQKo__F",
        "outputId": "eca54f2c-076b-4660-86c9-f2368b1e2b00"
      },
      "outputs": [
        {
          "output_type": "stream",
          "name": "stdout",
          "text": [
            "Mounted at /content/drive/\n"
          ]
        }
      ],
      "source": [
        "from google.colab import drive\n",
        "drive.mount('/content/drive/')"
      ]
    },
    {
      "cell_type": "code",
      "execution_count": null,
      "metadata": {
        "colab": {
          "base_uri": "https://localhost:8080/"
        },
        "id": "YhIsPWyApFhJ",
        "outputId": "7fe52abb-f393-4512-f772-bace005d2c78"
      },
      "outputs": [
        {
          "output_type": "stream",
          "name": "stdout",
          "text": [
            "Cloning into 'DevGPT'...\n",
            "warning: --local is ignored\n",
            "remote: Enumerating objects: 241, done.\u001b[K\n",
            "remote: Counting objects: 100% (100/100), done.\u001b[K\n",
            "remote: Compressing objects: 100% (82/82), done.\u001b[K\n",
            "remote: Total 241 (delta 19), reused 87 (delta 17), pack-reused 141\u001b[K\n",
            "Receiving objects: 100% (241/241), 985.42 MiB | 29.22 MiB/s, done.\n",
            "^C\n"
          ]
        }
      ],
      "source": [
        "!git clone -l -s https://github.com/NAIST-SE/DevGPT\n",
        "# %cd cloned-repo\n",
        "# !ls"
      ]
    },
    {
      "cell_type": "code",
      "execution_count": null,
      "metadata": {
        "colab": {
          "base_uri": "https://localhost:8080/"
        },
        "id": "Iq-1FN9Bqdtg",
        "outputId": "f4a90b58-3a60-496a-eef1-0172cf523c92"
      },
      "outputs": [
        {
          "output_type": "stream",
          "name": "stdout",
          "text": [
            "/content/drive/MyDrive/SE_PROJECT\n"
          ]
        }
      ],
      "source": [
        "cd /content/drive/MyDrive/SE_PROJECT"
      ]
    },
    {
      "cell_type": "code",
      "execution_count": null,
      "metadata": {
        "colab": {
          "background_save": true
        },
        "id": "M_iUIS22eC8y"
      },
      "outputs": [],
      "source": [
        "\n",
        "# Opening JSON file\n",
        "\n",
        "import json\n",
        "\n",
        "# Opening JSON file\n",
        "with open('DevGPT/6/sample.json','r') as json_file:\n",
        "    data = json.load(json_file)\n",
        "\n",
        "for i in range(len(data)):\n",
        "\n",
        "  x = data[\"Sources\"]\n",
        "  for j in x:\n",
        "\n",
        "    chat= j[\"ChatgptSharing\"]\n",
        "    data={}\n",
        "    if \"Conversations\" in chat[0]:\n",
        "      for key in chat[0][\"Conversations\"]:\n",
        "        for val in key[\"ListOfCode\"]:\n",
        "          if val['Type'] and val['Type'].lower() in ['python','javascript','c','c++','java','c#','ruby']:\n",
        "            if val[\"Content\"]:\n",
        "\n",
        "              data[\"type\"]=val[\"Type\"]\n",
        "              data[\"code\"]=val[\"Content\"]\n",
        "              file_path = \"/content/drive/MyDrive/SE_PROJECT/final.json\"\n",
        "              existing_data=[]\n",
        "              with open(file_path, 'r') as json_file:\n",
        "                existing_data = json.load(json_file)\n",
        "                data_present = any(item == data for item in existing_data)\n",
        "                if not data_present:\n",
        "                  with open(file_path, 'a') as json_file:\n",
        "                    json.dump(data, json_file, indent=4)\n",
        "\n",
        "\n",
        "\n",
        "\n",
        "\n",
        "\n",
        "\n",
        "\n",
        "\n",
        "\n",
        "\n",
        "\n",
        "\n",
        "            # print(title)\n",
        "            # if title:\n",
        "            #   file.write(title + \"\\n\")  # Write each title to the file on a new line\n",
        "\n"
      ]
    }
  ],
  "metadata": {
    "colab": {
      "provenance": []
    },
    "kernelspec": {
      "display_name": "Python 3",
      "name": "python3"
    }
  },
  "nbformat": 4,
  "nbformat_minor": 0
}